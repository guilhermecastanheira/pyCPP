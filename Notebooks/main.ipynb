{
 "cells": [
  {
   "cell_type": "markdown",
   "id": "c7a28b54",
   "metadata": {},
   "source": [
    "### Test of created libary"
   ]
  },
  {
   "cell_type": "code",
   "execution_count": 1,
   "id": "ddc4f6b4",
   "metadata": {},
   "outputs": [],
   "source": [
    "# adjust the path to include the build\\Release directory\n",
    "import sys\n",
    "sys.path.append(r'..\\build\\Release')\n",
    "# import the compiled module\n",
    "import module"
   ]
  },
  {
   "cell_type": "code",
   "execution_count": 4,
   "id": "c21fbbe2",
   "metadata": {},
   "outputs": [
    {
     "name": "stdout",
     "output_type": "stream",
     "text": [
      "add(2, 3) = 5\n",
      "subtract(10, 4) = 6\n",
      "multiply(6, 7) = 42\n",
      "divide(8, 2) = 4\n"
     ]
    }
   ],
   "source": [
    "# test the C++ functions from the pybind11 module\n",
    "print(\"add(2, 3) =\", module.add(2, 3))\n",
    "print(\"subtract(10, 4) =\", module.subtract(10, 4))\n",
    "print(\"multiply(6, 7) =\", module.multiply(6, 7))\n",
    "print(\"divide(8, 2) =\", module.divide(8, 2))"
   ]
  }
 ],
 "metadata": {
  "kernelspec": {
   "display_name": "Python 3",
   "language": "python",
   "name": "python3"
  },
  "language_info": {
   "codemirror_mode": {
    "name": "ipython",
    "version": 3
   },
   "file_extension": ".py",
   "mimetype": "text/x-python",
   "name": "python",
   "nbconvert_exporter": "python",
   "pygments_lexer": "ipython3",
   "version": "3.11.1"
  }
 },
 "nbformat": 4,
 "nbformat_minor": 5
}
